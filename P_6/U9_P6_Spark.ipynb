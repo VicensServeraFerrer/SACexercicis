{
  "nbformat": 4,
  "nbformat_minor": 0,
  "metadata": {
    "colab": {
      "provenance": []
    },
    "kernelspec": {
      "name": "python3",
      "display_name": "Python 3"
    },
    "language_info": {
      "name": "python"
    }
  },
  "cells": [
    {
      "cell_type": "code",
      "execution_count": 3,
      "metadata": {
        "colab": {
          "base_uri": "https://localhost:8080/"
        },
        "collapsed": true,
        "id": "3Rcfsar_DAYu",
        "outputId": "447da466-73a6-4af4-bda9-c9c37f7db62a"
      },
      "outputs": [
        {
          "output_type": "stream",
          "name": "stdout",
          "text": [
            "Requirement already satisfied: pyspark in /usr/local/lib/python3.10/dist-packages (3.5.3)\n",
            "Requirement already satisfied: py4j==0.10.9.7 in /usr/local/lib/python3.10/dist-packages (from pyspark) (0.10.9.7)\n"
          ]
        }
      ],
      "source": [
        "!pip install pyspark"
      ]
    },
    {
      "cell_type": "code",
      "source": [
        "from google.colab import files\n",
        "\n",
        "# Subir el archivo\n",
        "uploaded = files.upload()"
      ],
      "metadata": {
        "colab": {
          "base_uri": "https://localhost:8080/",
          "height": 175
        },
        "collapsed": true,
        "id": "nG9njy9_FEkB",
        "outputId": "cf602e38-b382-402e-8984-4757ae7708ad"
      },
      "execution_count": 4,
      "outputs": [
        {
          "output_type": "display_data",
          "data": {
            "text/plain": [
              "<IPython.core.display.HTML object>"
            ],
            "text/html": [
              "\n",
              "     <input type=\"file\" id=\"files-33d20821-6619-4717-8a98-d25742afe45a\" name=\"files[]\" multiple disabled\n",
              "        style=\"border:none\" />\n",
              "     <output id=\"result-33d20821-6619-4717-8a98-d25742afe45a\">\n",
              "      Upload widget is only available when the cell has been executed in the\n",
              "      current browser session. Please rerun this cell to enable.\n",
              "      </output>\n",
              "      <script>// Copyright 2017 Google LLC\n",
              "//\n",
              "// Licensed under the Apache License, Version 2.0 (the \"License\");\n",
              "// you may not use this file except in compliance with the License.\n",
              "// You may obtain a copy of the License at\n",
              "//\n",
              "//      http://www.apache.org/licenses/LICENSE-2.0\n",
              "//\n",
              "// Unless required by applicable law or agreed to in writing, software\n",
              "// distributed under the License is distributed on an \"AS IS\" BASIS,\n",
              "// WITHOUT WARRANTIES OR CONDITIONS OF ANY KIND, either express or implied.\n",
              "// See the License for the specific language governing permissions and\n",
              "// limitations under the License.\n",
              "\n",
              "/**\n",
              " * @fileoverview Helpers for google.colab Python module.\n",
              " */\n",
              "(function(scope) {\n",
              "function span(text, styleAttributes = {}) {\n",
              "  const element = document.createElement('span');\n",
              "  element.textContent = text;\n",
              "  for (const key of Object.keys(styleAttributes)) {\n",
              "    element.style[key] = styleAttributes[key];\n",
              "  }\n",
              "  return element;\n",
              "}\n",
              "\n",
              "// Max number of bytes which will be uploaded at a time.\n",
              "const MAX_PAYLOAD_SIZE = 100 * 1024;\n",
              "\n",
              "function _uploadFiles(inputId, outputId) {\n",
              "  const steps = uploadFilesStep(inputId, outputId);\n",
              "  const outputElement = document.getElementById(outputId);\n",
              "  // Cache steps on the outputElement to make it available for the next call\n",
              "  // to uploadFilesContinue from Python.\n",
              "  outputElement.steps = steps;\n",
              "\n",
              "  return _uploadFilesContinue(outputId);\n",
              "}\n",
              "\n",
              "// This is roughly an async generator (not supported in the browser yet),\n",
              "// where there are multiple asynchronous steps and the Python side is going\n",
              "// to poll for completion of each step.\n",
              "// This uses a Promise to block the python side on completion of each step,\n",
              "// then passes the result of the previous step as the input to the next step.\n",
              "function _uploadFilesContinue(outputId) {\n",
              "  const outputElement = document.getElementById(outputId);\n",
              "  const steps = outputElement.steps;\n",
              "\n",
              "  const next = steps.next(outputElement.lastPromiseValue);\n",
              "  return Promise.resolve(next.value.promise).then((value) => {\n",
              "    // Cache the last promise value to make it available to the next\n",
              "    // step of the generator.\n",
              "    outputElement.lastPromiseValue = value;\n",
              "    return next.value.response;\n",
              "  });\n",
              "}\n",
              "\n",
              "/**\n",
              " * Generator function which is called between each async step of the upload\n",
              " * process.\n",
              " * @param {string} inputId Element ID of the input file picker element.\n",
              " * @param {string} outputId Element ID of the output display.\n",
              " * @return {!Iterable<!Object>} Iterable of next steps.\n",
              " */\n",
              "function* uploadFilesStep(inputId, outputId) {\n",
              "  const inputElement = document.getElementById(inputId);\n",
              "  inputElement.disabled = false;\n",
              "\n",
              "  const outputElement = document.getElementById(outputId);\n",
              "  outputElement.innerHTML = '';\n",
              "\n",
              "  const pickedPromise = new Promise((resolve) => {\n",
              "    inputElement.addEventListener('change', (e) => {\n",
              "      resolve(e.target.files);\n",
              "    });\n",
              "  });\n",
              "\n",
              "  const cancel = document.createElement('button');\n",
              "  inputElement.parentElement.appendChild(cancel);\n",
              "  cancel.textContent = 'Cancel upload';\n",
              "  const cancelPromise = new Promise((resolve) => {\n",
              "    cancel.onclick = () => {\n",
              "      resolve(null);\n",
              "    };\n",
              "  });\n",
              "\n",
              "  // Wait for the user to pick the files.\n",
              "  const files = yield {\n",
              "    promise: Promise.race([pickedPromise, cancelPromise]),\n",
              "    response: {\n",
              "      action: 'starting',\n",
              "    }\n",
              "  };\n",
              "\n",
              "  cancel.remove();\n",
              "\n",
              "  // Disable the input element since further picks are not allowed.\n",
              "  inputElement.disabled = true;\n",
              "\n",
              "  if (!files) {\n",
              "    return {\n",
              "      response: {\n",
              "        action: 'complete',\n",
              "      }\n",
              "    };\n",
              "  }\n",
              "\n",
              "  for (const file of files) {\n",
              "    const li = document.createElement('li');\n",
              "    li.append(span(file.name, {fontWeight: 'bold'}));\n",
              "    li.append(span(\n",
              "        `(${file.type || 'n/a'}) - ${file.size} bytes, ` +\n",
              "        `last modified: ${\n",
              "            file.lastModifiedDate ? file.lastModifiedDate.toLocaleDateString() :\n",
              "                                    'n/a'} - `));\n",
              "    const percent = span('0% done');\n",
              "    li.appendChild(percent);\n",
              "\n",
              "    outputElement.appendChild(li);\n",
              "\n",
              "    const fileDataPromise = new Promise((resolve) => {\n",
              "      const reader = new FileReader();\n",
              "      reader.onload = (e) => {\n",
              "        resolve(e.target.result);\n",
              "      };\n",
              "      reader.readAsArrayBuffer(file);\n",
              "    });\n",
              "    // Wait for the data to be ready.\n",
              "    let fileData = yield {\n",
              "      promise: fileDataPromise,\n",
              "      response: {\n",
              "        action: 'continue',\n",
              "      }\n",
              "    };\n",
              "\n",
              "    // Use a chunked sending to avoid message size limits. See b/62115660.\n",
              "    let position = 0;\n",
              "    do {\n",
              "      const length = Math.min(fileData.byteLength - position, MAX_PAYLOAD_SIZE);\n",
              "      const chunk = new Uint8Array(fileData, position, length);\n",
              "      position += length;\n",
              "\n",
              "      const base64 = btoa(String.fromCharCode.apply(null, chunk));\n",
              "      yield {\n",
              "        response: {\n",
              "          action: 'append',\n",
              "          file: file.name,\n",
              "          data: base64,\n",
              "        },\n",
              "      };\n",
              "\n",
              "      let percentDone = fileData.byteLength === 0 ?\n",
              "          100 :\n",
              "          Math.round((position / fileData.byteLength) * 100);\n",
              "      percent.textContent = `${percentDone}% done`;\n",
              "\n",
              "    } while (position < fileData.byteLength);\n",
              "  }\n",
              "\n",
              "  // All done.\n",
              "  yield {\n",
              "    response: {\n",
              "      action: 'complete',\n",
              "    }\n",
              "  };\n",
              "}\n",
              "\n",
              "scope.google = scope.google || {};\n",
              "scope.google.colab = scope.google.colab || {};\n",
              "scope.google.colab._files = {\n",
              "  _uploadFiles,\n",
              "  _uploadFilesContinue,\n",
              "};\n",
              "})(self);\n",
              "</script> "
            ]
          },
          "metadata": {}
        },
        {
          "output_type": "stream",
          "name": "stdout",
          "text": [
            "Saving session_Pilates.csv to session_Pilates.csv\n",
            "Saving session_Spinning.csv to session_Spinning.csv\n",
            "Saving session_yoga.csv to session_yoga.csv\n",
            "Saving user_age.csv to user_age.csv\n"
          ]
        }
      ]
    },
    {
      "cell_type": "code",
      "source": [
        "from pyspark import SparkConf, SparkContext\n",
        "conf = SparkConf().setMaster(\"local\").setAppName(\"My App\")"
      ],
      "metadata": {
        "id": "vy8IuxpyDVZe"
      },
      "execution_count": 5,
      "outputs": []
    },
    {
      "cell_type": "code",
      "source": [
        "sc = SparkContext.getOrCreate(conf=conf)"
      ],
      "metadata": {
        "id": "ktq8D9dbDsvW"
      },
      "execution_count": 6,
      "outputs": []
    },
    {
      "cell_type": "code",
      "source": [
        "from pyspark.sql import SparkSession\n",
        "\n",
        "# Crear una SparkSession\n",
        "spark = SparkSession.builder.appName(\"My CSV App\").getOrCreate()"
      ],
      "metadata": {
        "id": "-AAwO9xODyBx"
      },
      "execution_count": 7,
      "outputs": []
    },
    {
      "cell_type": "code",
      "source": [
        "df_pilates_path = \"/content/session_Pilates.csv\"\n",
        "df_yoga_path = \"/content/session_yoga.csv\"\n",
        "df_spinning_path = \"/content/session_Spinning.csv\"\n",
        "df_age_path = \"/content/user_age.csv\"\n",
        "\n",
        "df_pilates = spark.read.csv(df_pilates_path, header=True, inferSchema=True)\n",
        "df_yoga = spark.read.csv(df_yoga_path, header=True, inferSchema=True)\n",
        "df_spinning = spark.read.csv(df_spinning_path, header=True, inferSchema=True)\n",
        "df_age = spark.read.csv(df_age_path, header=True, inferSchema=True)"
      ],
      "metadata": {
        "id": "_QtN9FK0HWvm"
      },
      "execution_count": 8,
      "outputs": []
    },
    {
      "cell_type": "code",
      "source": [
        "df_age = df_age.filter((df_age['edad'] > 18) & (df_age['edad'] < 60))\n",
        "df_age = df_age.withColumnRenamed(\"user\", \"user_age\")\n",
        "\n",
        "#DF solo con los usuarios de la classe entre edades 18 i 60\n",
        "df_pilates = df_pilates.join(df_age, df_pilates[\"user\"] == df_age[\"user_age\"], \"inner\")\n",
        "df_yoga = df_yoga.join(df_age, df_yoga[\"user\"] == df_age[\"user_age\"], \"inner\")\n",
        "df_spinning = df_spinning.join(df_age, df_spinning[\"user\"] == df_age[\"user_age\"], \"inner\")"
      ],
      "metadata": {
        "collapsed": true,
        "id": "BMDUYk0rIsAQ"
      },
      "execution_count": 9,
      "outputs": []
    },
    {
      "cell_type": "code",
      "source": [
        "df_pilates_agrupado = df_pilates.groupBy(\"edad\").count()\n",
        "df_yoga_agrupado = df_yoga.groupBy(\"edad\").count()\n",
        "df_spinning_agrupado = df_spinning.groupBy(\"edad\").count()\n",
        "\n",
        "df_yoga_agrupado = df_yoga_agrupado.orderBy(\"edad\")\n",
        "df_pilates_agrupado = df_pilates_agrupado.orderBy(\"edad\")\n",
        "df_spinning_agrupado = df_spinning_agrupado.orderBy(\"edad\")"
      ],
      "metadata": {
        "id": "mQyBaHQSRUxR"
      },
      "execution_count": 10,
      "outputs": []
    },
    {
      "cell_type": "code",
      "source": [],
      "metadata": {
        "id": "_cNq3uBh-MDB"
      },
      "execution_count": null,
      "outputs": []
    },
    {
      "cell_type": "code",
      "source": [
        "from pyspark.sql.functions import when, col, sum as spark_sum\n",
        "import pandas as pd\n",
        "import matplotlib.pyplot as plt\n",
        "\n",
        "# Función para agrupar por rangos de edad\n",
        "def agrupar_por_rangos(df):\n",
        "    return (df.withColumn(\n",
        "                \"rango_edad\",\n",
        "                when((col(\"edad\") >= 18) & (col(\"edad\") <= 29), \"18-29\")\n",
        "                .when((col(\"edad\") >= 30) & (col(\"edad\") <= 39), \"30-39\")\n",
        "                .when((col(\"edad\") >= 40) & (col(\"edad\") <= 49), \"40-49\")\n",
        "                .when((col(\"edad\") >= 50) & (col(\"edad\") <= 59), \"50-59\")\n",
        "                .otherwise(\"Otros\")\n",
        "            )\n",
        "            .groupBy(\"rango_edad\")\n",
        "            .agg(spark_sum(\"count\").alias(\"total\"))\n",
        "            .orderBy(\"rango_edad\")\n",
        "    )\n",
        "\n",
        "# Agrupar por rangos de edad para cada actividad\n",
        "df_yoga_agrupado = agrupar_por_rangos(df_yoga_agrupado)\n",
        "df_pilates_agrupado = agrupar_por_rangos(df_pilates_agrupado)\n",
        "df_spinning_agrupado = agrupar_por_rangos(df_spinning_agrupado)\n",
        "\n",
        "df_yoga_data = df_yoga_agrupado.toPandas()\n",
        "df_pilates_data = df_pilates_agrupado.toPandas()\n",
        "df_spinning_data = df_spinning_agrupado.toPandas()\n",
        "\n",
        "plt.figure(figsize=(10, 6))\n",
        "bar_width = 0.25\n",
        "r1 = range(len(df_yoga_data))\n",
        "r2 = [x + bar_width for x in r1]\n",
        "r3 = [x + bar_width for x in r2]\n",
        "\n",
        "plt.bar(r1, df_yoga_data[\"total\"], color=\"blue\", width=bar_width, label=\"Yoga\")\n",
        "plt.bar(r2, df_pilates_data[\"total\"], color=\"green\", width=bar_width, label=\"Pilates\")\n",
        "plt.bar(r3, df_spinning_data[\"total\"], color=\"red\", width=bar_width, label=\"Spinning\")\n",
        "\n",
        "plt.xlabel(\"Rangos de Edad\", fontsize=12)\n",
        "plt.ylabel(\"Total de Personas\", fontsize=12)\n",
        "plt.title(\"Distribución de Participantes por Rango de Edad\", fontsize=14)\n",
        "plt.xticks([r + bar_width for r in range(len(df_yoga_data))], df_yoga_data[\"rango_edad\"])\n",
        "plt.legend()\n",
        "plt.tight_layout()\n",
        "plt.show()\n"
      ],
      "metadata": {
        "colab": {
          "base_uri": "https://localhost:8080/",
          "height": 607
        },
        "id": "tpBvD9M2TUji",
        "outputId": "f15c0a68-65dc-4c8e-907e-e38a291c0f27"
      },
      "execution_count": 11,
      "outputs": [
        {
          "output_type": "display_data",
          "data": {
            "text/plain": [
              "<Figure size 1000x600 with 1 Axes>"
            ],
            "image/png": "[encoded data removed]"
          },
          "metadata": {}
        }
      ]
    }
  ]
}